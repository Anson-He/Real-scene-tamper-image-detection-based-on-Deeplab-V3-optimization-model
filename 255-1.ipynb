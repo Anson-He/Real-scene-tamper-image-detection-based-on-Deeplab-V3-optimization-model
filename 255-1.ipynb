{
 "cells": [
  {
   "cell_type": "code",
   "execution_count": 73,
   "id": "615628b2-dc48-4d3e-b884-98fa3c246951",
   "metadata": {},
   "outputs": [],
   "source": [
    "import cv2\n",
    "import matplotlib.pyplot as plt\n",
    "import os\n",
    "from PIL import Image\n",
    "import numpy as np"
   ]
  },
  {
   "cell_type": "code",
   "execution_count": 24,
   "id": "241ce3e8-bf1f-4706-a48f-d8966c50d06b",
   "metadata": {},
   "outputs": [],
   "source": [
    "frompath = 'VOCdevkit/VOC2007/mask/'\n",
    "topath = 'VOCdevkit/VOC2007/SegmentationClass/'"
   ]
  },
  {
   "cell_type": "code",
   "execution_count": 28,
   "id": "bf41657c-c1e0-469b-8da0-89a6b2b53f6e",
   "metadata": {},
   "outputs": [],
   "source": [
    "for i in os.listdir(frompath):\n",
    "    if 'png' in i:\n",
    "        img = cv2.imread(frompath+i)\n",
    "        img[img!=0]=1\n",
    "        cv2.imwrite(topath+i,img)"
   ]
  }
 ],
 "metadata": {
  "kernelspec": {
   "display_name": "Python 3 (ipykernel)",
   "language": "python",
   "name": "python3"
  },
  "language_info": {
   "codemirror_mode": {
    "name": "ipython",
    "version": 3
   },
   "file_extension": ".py",
   "mimetype": "text/x-python",
   "name": "python",
   "nbconvert_exporter": "python",
   "pygments_lexer": "ipython3",
   "version": "3.7.10"
  }
 },
 "nbformat": 4,
 "nbformat_minor": 5
}
