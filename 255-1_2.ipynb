{
 "cells": [
  {
   "cell_type": "code",
   "execution_count": 1,
   "id": "3a6f61bc-169c-40fc-9495-e5b166b29233",
   "metadata": {},
   "outputs": [],
   "source": [
    "import cv2\n",
    "import matplotlib.pyplot as plt\n",
    "import os\n",
    "from PIL import Image\n",
    "import numpy as np"
   ]
  },
  {
   "cell_type": "code",
   "execution_count": null,
   "id": "be1dd164-fc21-45b4-8a90-fc55228aca57",
   "metadata": {},
   "outputs": [],
   "source": [
    "frompath = 'VOCdevkit/VOC2007/mask2/'\n",
    "topath = 'VOCdevkit/VOC2007/SegmentationClass/'"
   ]
  },
  {
   "cell_type": "code",
   "execution_count": null,
   "id": "f8363a4d-6724-451a-8847-a6af61b99182",
   "metadata": {},
   "outputs": [],
   "source": [
    "for i in os.listdir(frompath):\n",
    "    if 'png' in i:\n",
    "        img = cv2.imread(frompath+i)\n",
    "        img[img!=0]=1\n",
    "        cv2.imwrite(topath+i,img)"
   ]
  }
 ],
 "metadata": {
  "kernelspec": {
   "display_name": "Python 3 (ipykernel)",
   "language": "python",
   "name": "python3"
  },
  "language_info": {
   "codemirror_mode": {
    "name": "ipython",
    "version": 3
   },
   "file_extension": ".py",
   "mimetype": "text/x-python",
   "name": "python",
   "nbconvert_exporter": "python",
   "pygments_lexer": "ipython3",
   "version": "3.7.10"
  }
 },
 "nbformat": 4,
 "nbformat_minor": 5
}
