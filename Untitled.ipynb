{
 "cells": [
  {
   "cell_type": "code",
   "execution_count": 151,
   "id": "2895e811-05c7-4daa-8183-436e4bb38e22",
   "metadata": {},
   "outputs": [],
   "source": [
    "import Augmentor\n",
    "from PIL import Image\n",
    "import cv2\n",
    "import os\n",
    "import re\n",
    "import numpy as np\n",
    "import random\n",
    "import math"
   ]
  },
  {
   "cell_type": "code",
   "execution_count": 152,
   "id": "bbf74748-5fb1-4613-ae88-c9a8100f251b",
   "metadata": {},
   "outputs": [],
   "source": [
    "def PNG_JPG(PngPath):\n",
    "    img = cv.imread(PngPath, 0)\n",
    "    w, h = img.shape[::-1]\n",
    "    infile = PngPath\n",
    "    outfile = os.path.splitext(infile)[0] + \".jpg\"\n",
    "    img = Image.open(infile)\n",
    "    try:\n",
    "        if len(img.split()) == 4:\n",
    "            # prevent IOError: cannot write mode RGBA as BMP\n",
    "            r, g, b, a = img.split()\n",
    "            img = Image.merge(\"RGB\", (r, g, b))\n",
    "            img.convert('RGB').save(outfile, quality=100)\n",
    "            os.remove(PngPath)\n",
    "        else:\n",
    "            img.convert('RGB').save(outfile, quality=100)\n",
    "            os.remove(PngPath)\n",
    "        return outfile\n",
    "    except Exception as e:\n",
    "        print(\"PNG转换JPG 错误\", e)"
   ]
  },
  {
   "cell_type": "code",
   "execution_count": 153,
   "id": "3561b99e-4a25-41e6-8e25-a9e7d04b4b54",
   "metadata": {},
   "outputs": [],
   "source": [
    "# 将原图片格式修改为jpg\n",
    "for i in os.listdir('VOCdevkit/VOC2007/SegmentationClass'):\n",
    "    if 'png' in i:\n",
    "        PNG_JPG(r\"VOCdevkit/VOC2007/SegmentationClass/\"+i)"
   ]
  },
  {
   "cell_type": "code",
   "execution_count": 154,
   "id": "d0c814a8-b5d6-46db-94a0-11c0067d2fc0",
   "metadata": {},
   "outputs": [],
   "source": [
    "for j in range(4000):\n",
    "    if (j+1) % 10 == 0:\n",
    "        print(str(j+1)+' is done!')\n",
    "    image = cv2.imread('VOCdevkit/VOC2007/JPEGImages/'+str(j+1)+'.jpg')\n",
    "    image = cv2.cvtColor(image, cv2.COLOR_BGR2RGB)\n",
    "    mask = cv2.imread(('VOCdevkit/VOC2007/SegmentationClass/'+str(j+1)+'.jpg'), cv2.IMREAD_GRAYSCALE)# / 255\n",
    "    mask_ = np.zeros(image.shape[:2], dtype=\"uint8\")\n",
    "    def midpoint(x1, y1, x2, y2):\n",
    "        x_mid = int((x1 + x2)/2)\n",
    "        y_mid = int((y1 + y2)/2)\n",
    "        return (x_mid, y_mid)\n",
    "\n",
    "    # x0, y0 = (700,50)\n",
    "    # x1, y1 = (0,50)\n",
    "    # x2, y2 = (0,120)\n",
    "    # x3, y3 = (700,120)\n",
    "\n",
    "    x0, y0 = (random.randint(1,300),random.randint(1,300))\n",
    "    x1, y1 = (random.randint(1,300),random.randint(1,300))\n",
    "    x2, y2 = (random.randint(1,300),random.randint(1,300))\n",
    "    x3, y3 = (random.randint(1,300),random.randint(1,300))\n",
    "\n",
    "    # index = image_path.split('/')[-1].split('.')[0]\n",
    "\n",
    "    # mask[y1:y2, x1:x0] = 1\n",
    "\n",
    "    x_mid0, y_mid0 = int((x1 + x2) / 2), int((y1 + y2) / 2)\n",
    "    x_mid1, y_mi1 = int((x0 + x3) / 2), int((y0 + y3) / 2)\n",
    "\n",
    "    thickness = int(math.sqrt((x2 - x1)**2 + (y2 - y1)**2))\n",
    "\n",
    "    cv2.line(mask_, (x_mid0, y_mid0), (x_mid1, y_mi1), 255, thickness)\n",
    "    img = cv2.inpaint(image, mask_, 7, cv2.INPAINT_NS)\n",
    "    aa = mask+mask_\n",
    "    aa[aa!=0] = 1\n",
    "    # img = cv2.rectangle(img, pt1=[x2,y1], pt2=[x3,y2], color=(255,0,0), thickness=3)\n",
    "    # 保存\n",
    "    cv2.imwrite('VOCdevkit/VOC2007/JPEGImages/'+str(j+1)+'_random.jpg', img)\n",
    "    cv2.imwrite('VOCdevkit/VOC2007/SegmentationClass/'+str(j+1)+'_random.jpg', aa)"
   ]
  },
  {
   "cell_type": "code",
   "execution_count": 155,
   "id": "e9109d00-8434-4b44-af37-fa86407c9fe5",
   "metadata": {},
   "outputs": [
    {
     "name": "stdout",
     "output_type": "stream",
     "text": [
      "Initialised with 8000 image(s) found.\n",
      "Output directory set to VOCdevkit/VOC2007/JPEGImages/output."
     ]
    },
    {
     "name": "stderr",
     "output_type": "stream",
     "text": [
      "                                                         "
     ]
    },
    {
     "name": "stdout",
     "output_type": "stream",
     "text": [
      "8000 ground truth image(s) found.\n"
     ]
    },
    {
     "name": "stderr",
     "output_type": "stream",
     "text": [
      "\r"
     ]
    }
   ],
   "source": [
    "p = Augmentor.Pipeline(\"VOCdevkit/VOC2007/JPEGImages\")\n",
    "p.ground_truth(\"VOCdevkit/VOC2007/SegmentationClass\")"
   ]
  },
  {
   "cell_type": "code",
   "execution_count": 156,
   "id": "588856e3-5b40-400d-a968-65a6b7ee802b",
   "metadata": {},
   "outputs": [
    {
     "name": "stderr",
     "output_type": "stream",
     "text": [
      "Processing <PIL.Image.Image image mode=RGB size=973x636 at 0x7F2F2618E1D0>:  73%|███████▎  | 5866/8001 [05:04<00:01, 1726.48 Samples/s]                   IOPub message rate exceeded.\n",
      "The Jupyter server will temporarily stop sending output\n",
      "to the client in order to avoid crashing it.\n",
      "To change this limit, set the config variable\n",
      "`--ServerApp.iopub_msg_rate_limit`.\n",
      "\n",
      "Current values:\n",
      "ServerApp.iopub_msg_rate_limit=1000.0 (msgs/sec)\n",
      "ServerApp.rate_limit_window=3.0 (secs)\n",
      "\n",
      "Processing <PIL.Image.Image image mode=RGB size=527x732 at 0x7F2F41314AD0>: 100%|██████████| 8001/8001 [05:05<00:00, 26.20 Samples/s]                     \n"
     ]
    }
   ],
   "source": [
    "p.rotate(probability=0.3, max_left_rotation=10, max_right_rotation=10)\n",
    "p.skew_tilt(probability=0.3,magnitude=0.7)\n",
    "p.skew_corner(probability=0.3,magnitude=0.7)\n",
    "p.random_distortion(probability=0.3,grid_height=5,grid_width=16,magnitude=8)\n",
    "p.shear(probability=0.3,max_shear_left=15,max_shear_right=15)\n",
    "p.flip_left_right(probability=0.3)\n",
    "p.zoom_random(probability=0.3, percentage_area=0.85)\n",
    "p.sample(len(os.listdir('VOCdevkit/VOC2007/JPEGImages')))"
   ]
  },
  {
   "cell_type": "code",
   "execution_count": 164,
   "id": "bd8cbb03-238f-4544-89bb-6a2e6a2c6d04",
   "metadata": {},
   "outputs": [],
   "source": [
    "for i in os.listdir('VOCdevkit/VOC2007/JPEGImages/output'):\n",
    "    if '.jpg' in i:\n",
    "        md5 = re.findall('.jpg_(.{1,}).jpg',i)[0]\n",
    "        if 'original' in i:\n",
    "            num = re.findall('original_(.{1,}).jpg_',i)[0]\n",
    "            name = num+'_'+md5+'.jpg'\n",
    "            shutil.move('VOCdevkit/VOC2007/JPEGImages/output/'+str(i), 'VOCdevkit/VOC2007/JPEGImages/'+name)\n",
    "        if 'groundtruth' in i and 'random' not in i:\n",
    "            num = re.findall('groundtruth_.{1,}_(.{1,}).jpg_',i)[0]\n",
    "            name = num+'_'+md5+'.jpg'\n",
    "            shutil.move('VOCdevkit/VOC2007/JPEGImages/output/'+str(i), 'VOCdevkit/VOC2007/SegmentationClass/'+name)\n",
    "        if 'groundtruth' in i and 'random' in i:\n",
    "            num = re.findall('groundtruth_.{1,}_(.{1,}_.{1,}).jpg_',i)[0]\n",
    "            name = num+'_'+md5+'.jpg'\n",
    "            shutil.move('VOCdevkit/VOC2007/JPEGImages/output/'+str(i), 'VOCdevkit/VOC2007/SegmentationClass/'+name)"
   ]
  },
  {
   "cell_type": "code",
   "execution_count": 167,
   "id": "f63d3d53-1c53-4902-bb18-3fd1852378c6",
   "metadata": {},
   "outputs": [],
   "source": [
    "# mask jpg转png\n",
    "for i in os.listdir('VOCdevkit/VOC2007/SegmentationClass'):\n",
    "    if 'jpg' in i:     \n",
    "        im = Image.open('VOCdevkit/VOC2007/SegmentationClass/'+i) # 打开需要转换的jpg图片所在位置\n",
    "        name = re.findall('(.{1,}).jpg',i)[0]\n",
    "        im.save('VOCdevkit/VOC2007/SegmentationClass/'+name+'.png') # 输出保存q\n",
    "        os.remove('VOCdevkit/VOC2007/SegmentationClass/'+i)"
   ]
  },
  {
   "cell_type": "code",
   "execution_count": 166,
   "id": "7db056ac-ff3b-4946-9ce1-399d886fb08f",
   "metadata": {},
   "outputs": [
    {
     "data": {
      "text/plain": [
       "'845.jpg'"
      ]
     },
     "execution_count": 166,
     "metadata": {},
     "output_type": "execute_result"
    }
   ],
   "source": []
  }
 ],
 "metadata": {
  "kernelspec": {
   "display_name": "Python 3 (ipykernel)",
   "language": "python",
   "name": "python3"
  },
  "language_info": {
   "codemirror_mode": {
    "name": "ipython",
    "version": 3
   },
   "file_extension": ".py",
   "mimetype": "text/x-python",
   "name": "python",
   "nbconvert_exporter": "python",
   "pygments_lexer": "ipython3",
   "version": "3.7.10"
  }
 },
 "nbformat": 4,
 "nbformat_minor": 5
}
